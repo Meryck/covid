{
 "cells": [
  {
   "cell_type": "code",
   "execution_count": 1,
   "id": "e967a24a",
   "metadata": {
    "scrolled": true
   },
   "outputs": [],
   "source": [
    "import pandas as pd\n",
    "from chemprop.data import utils\n",
    "from random import randint\n",
    "import pandas as pd\n",
    "import numpy as np\n",
    "import warnings; warnings.simplefilter('ignore')"
   ]
  },
  {
   "cell_type": "code",
   "execution_count": 6,
   "id": "7610e3d8",
   "metadata": {},
   "outputs": [],
   "source": [
    "def get_partition_as_df(partition):\n",
    "    dict = {'ID': partition.compound_names(), 'SMILES': partition.smiles()}\n",
    "    df = pd.DataFrame(dict)\n",
    "    df2 = pd.DataFrame(df)\n",
    "    #df2[target_names] = pd.DataFrame(df2.targets.values.tolist(), index= df2.index)\n",
    "    #df2.drop('targets', axis=1, inplace=True)\n",
    "    return df2\n",
    "\n",
    "\n",
    "def random_split(dataset, seed_val):\n",
    "    # get target names (assuming that 1st column contains molecule names and 2nd column contains smiles and rest of the columns are targets)\n",
    "    df = pd.read_csv(dataset, sep=\",\", index_col=None, dtype={'ID': str})\n",
    "    cols = list(df.columns)\n",
    "    #target_names = cols[2:]\n",
    "\n",
    "    mol_dataset = utils.get_data(dataset, use_compound_names=True)\n",
    "    train, valid, test = utils.split_data(mol_dataset, sizes=(0.7, 0.15, 0.15), seed=seed_val)\n",
    "    train_df = get_partition_as_df(train)\n",
    "    train_df = train_df[['ID']]\n",
    "    valid_df = get_partition_as_df(valid)\n",
    "    valid_df = valid_df[['ID']]\n",
    "    test_df = get_partition_as_df(test)\n",
    "    test_df = test_df[['ID']]\n",
    "    return train_df, valid_df, test_df"
   ]
  },
  {
   "cell_type": "code",
   "execution_count": 7,
   "id": "a54bd168",
   "metadata": {
    "scrolled": false
   },
   "outputs": [
    {
     "name": "stdout",
     "output_type": "stream",
     "text": [
      "started splitting!\n",
      "fold: 0\n",
      "using seed: 43685\n"
     ]
    },
    {
     "name": "stderr",
     "output_type": "stream",
     "text": [
      "\n",
      "\n",
      "  0%|                                                                                          | 0/568 [00:00<?, ?it/s]\u001b[A\u001b[A\n",
      "\n",
      "  6%|████▌                                                                           | 32/568 [00:00<00:01, 317.41it/s]\u001b[A\u001b[A\n",
      "\n",
      " 39%|██████████████████████████████▌                                               | 223/568 [00:00<00:00, 1250.86it/s]\u001b[A\u001b[A\n",
      "\n",
      "  0%|                                                                                          | 0/568 [51:20<?, ?it/s]\u001b[A\u001b[A\n",
      "  0%|                                                                                          | 0/568 [50:49<?, ?it/s]\n",
      "\n",
      "\n",
      "100%|███████████████████████████████████████████████████████████████████████████████| 568/568 [00:00<00:00, 894.25it/s]\u001b[A\u001b[A\n"
     ]
    },
    {
     "name": "stdout",
     "output_type": "stream",
     "text": [
      "(397, 1)\n",
      "(85, 1)\n",
      "(86, 1)\n",
      "fold: 1\n",
      "using seed: 15338\n"
     ]
    },
    {
     "name": "stderr",
     "output_type": "stream",
     "text": [
      "100%|██████████████████████████████████████████████████████████████████████████████| 568/568 [00:00<00:00, 3101.92it/s]\n"
     ]
    },
    {
     "name": "stdout",
     "output_type": "stream",
     "text": [
      "(397, 1)\n",
      "(85, 1)\n",
      "(86, 1)\n",
      "fold: 2\n",
      "using seed: 15873\n"
     ]
    },
    {
     "name": "stderr",
     "output_type": "stream",
     "text": [
      "100%|██████████████████████████████████████████████████████████████████████████████| 568/568 [00:00<00:00, 2816.92it/s]\n"
     ]
    },
    {
     "name": "stdout",
     "output_type": "stream",
     "text": [
      "(397, 1)\n",
      "(85, 1)\n",
      "(86, 1)\n",
      "fold: 3\n",
      "using seed: 30836\n"
     ]
    },
    {
     "name": "stderr",
     "output_type": "stream",
     "text": [
      "100%|██████████████████████████████████████████████████████████████████████████████| 568/568 [00:00<00:00, 2579.30it/s]\n"
     ]
    },
    {
     "name": "stdout",
     "output_type": "stream",
     "text": [
      "(397, 1)\n",
      "(85, 1)\n",
      "(86, 1)\n",
      "fold: 4\n",
      "using seed: 15945\n"
     ]
    },
    {
     "name": "stderr",
     "output_type": "stream",
     "text": [
      "100%|██████████████████████████████████████████████████████████████████████████████| 568/568 [00:00<00:00, 3268.50it/s]"
     ]
    },
    {
     "name": "stdout",
     "output_type": "stream",
     "text": [
      "(397, 1)\n",
      "(85, 1)\n",
      "(86, 1)\n",
      "finished splitting!\n"
     ]
    },
    {
     "name": "stderr",
     "output_type": "stream",
     "text": [
      "\n"
     ]
    }
   ],
   "source": [
    "########################################################\n",
    "# example usage to random split the dataset 5 times\n",
    "\n",
    "dataset = r'C:\\Users\\meryc\\Dropbox\\Mestrado\\Multitask\\scripts\\Birds Toxicity\\data_classification\\Anas_platyrhynchos_class.csv'\n",
    "\n",
    "out_dir = '../data/random_split/'\n",
    "\n",
    "print('started splitting!')\n",
    "\n",
    "for k in range(5):\n",
    "    print('fold: %s' % k)\n",
    "    seed_val = randint(1, 50000)\n",
    "    print('using seed: %s' % seed_val)\n",
    "    train, test, valid = random_split(dataset, seed_val) # change split type and see value here\n",
    "    train_file_path = f\"{out_dir}train_fold_{str(k)}.csv\"\n",
    "    valid_file_path = f\"{out_dir}valid_fold_{str(k)}.csv\"\n",
    "    test_file_path = f\"{out_dir}test_fold_{str(k)}.csv\"\n",
    "    train.to_csv(train_file_path, index=None)\n",
    "    test.to_csv(test_file_path, index=None)\n",
    "    valid.to_csv(valid_file_path, index=None)\n",
    "    print(train.shape)\n",
    "    print(test.shape)\n",
    "    print(valid.shape)\n",
    "\n",
    "print('finished splitting!')"
   ]
  },
  {
   "cell_type": "code",
   "execution_count": 8,
   "id": "47fcc997",
   "metadata": {},
   "outputs": [],
   "source": [
    "# read dataset and join features (random split)\n",
    "data = pd.read_csv(r'C:\\Users\\meryc\\Dropbox\\Mestrado\\Multitask\\scripts\\Birds Toxicity\\data_classification\\Anas_platyrhynchos_class.csv', sep=',', dtype={'ID': str})\n",
    "\n",
    "# join features\n",
    "data_df=data\n",
    "\n",
    "# read training and test ids for each fold\n",
    "for i in range(5):\n",
    "    train = f\"../data/random_split/train_fold_{i}.csv\"\n",
    "    test = f\"../data/random_split/test_fold_{i}.csv\"\n",
    "    valid = f\"../data/random_split/valid_fold_{i}.csv\"\n",
    "\n",
    "    train_df = pd.read_csv(train, dtype={'ID': str})\n",
    "    test_df = pd.read_csv(test, dtype={'ID': str})\n",
    "    valid_df = pd.read_csv(valid, dtype={'ID': str})\n",
    "    \n",
    "    # join with data\n",
    "    train_df = pd.merge(train_df, data_df, on='ID')\n",
    "    test_df = pd.merge(test_df, data_df, on='ID')\n",
    "    valid_df = pd.merge(valid_df, data_df, on='ID')\n",
    "    \n",
    "    train_df.to_csv(f\"../data/random_split/train_fold_{i}.csv\", index=False)\n",
    "    test_df.to_csv(f\"../data/random_split/test_fold_{i}.csv\", index=False)\n",
    "    valid_df.to_csv(f\"../data/random_split/valid_fold_{i}.csv\", index=False)"
   ]
  },
  {
   "cell_type": "code",
   "execution_count": null,
   "id": "45f3fec8",
   "metadata": {},
   "outputs": [],
   "source": []
  }
 ],
 "metadata": {
  "interpreter": {
   "hash": "eb6a293caa7589e2a7c0e9046d66e90625b7652428ca1f53971d2efccf17d714"
  },
  "kernelspec": {
   "display_name": "AI",
   "language": "python",
   "name": "ai"
  },
  "language_info": {
   "codemirror_mode": {
    "name": "ipython",
    "version": 3
   },
   "file_extension": ".py",
   "mimetype": "text/x-python",
   "name": "python",
   "nbconvert_exporter": "python",
   "pygments_lexer": "ipython3",
   "version": "3.8.8"
  }
 },
 "nbformat": 4,
 "nbformat_minor": 5
}
