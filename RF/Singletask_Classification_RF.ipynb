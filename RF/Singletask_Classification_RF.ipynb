{
 "cells": [
  {
   "cell_type": "code",
   "execution_count": 1,
   "id": "539345d1",
   "metadata": {
    "scrolled": true
   },
   "outputs": [],
   "source": [
    "#Import standard packages for model training\n",
    "\n",
    "import sklearn as SK\n",
    "from sklearn.ensemble import RandomForestClassifier\n",
    "from sklearn.metrics import *\n",
    "from sklearn.metrics import confusion_matrix\n",
    "from sklearn.model_selection import *\n",
    "from skopt import BayesSearchCV\n",
    "import numpy as np\n",
    "import pandas as pd\n",
    "import os \n",
    "import io\n",
    "from tensorboard.plugins.hparams import api as hp\n",
    "\n",
    "os.environ[\"TF_CPP_MIN_LOG_LEVEL\"] = \"-1\""
   ]
  },
  {
   "cell_type": "code",
   "execution_count": 2,
   "id": "dbf80ac7",
   "metadata": {
    "scrolled": false
   },
   "outputs": [
    {
     "data": {
      "text/html": [
       "<div>\n",
       "<style scoped>\n",
       "    .dataframe tbody tr th:only-of-type {\n",
       "        vertical-align: middle;\n",
       "    }\n",
       "\n",
       "    .dataframe tbody tr th {\n",
       "        vertical-align: top;\n",
       "    }\n",
       "\n",
       "    .dataframe thead th {\n",
       "        text-align: right;\n",
       "    }\n",
       "</style>\n",
       "<table border=\"1\" class=\"dataframe\">\n",
       "  <thead>\n",
       "    <tr style=\"text-align: right;\">\n",
       "      <th></th>\n",
       "      <th>ID</th>\n",
       "      <th>SMILES</th>\n",
       "      <th>Outcome</th>\n",
       "    </tr>\n",
       "  </thead>\n",
       "  <tbody>\n",
       "    <tr>\n",
       "      <th>0</th>\n",
       "      <td>646</td>\n",
       "      <td>CC(=O)NC(CCC(O)=O)C(=O)NCCC1=CC=C(O)C=C1</td>\n",
       "      <td>0.0</td>\n",
       "    </tr>\n",
       "    <tr>\n",
       "      <th>1</th>\n",
       "      <td>392</td>\n",
       "      <td>OC(C(C)N)c1ccccc1</td>\n",
       "      <td>0.0</td>\n",
       "    </tr>\n",
       "    <tr>\n",
       "      <th>2</th>\n",
       "      <td>394</td>\n",
       "      <td>O=C(Nc1c(C)cccc1C(=O)OC)CN(CC)CC</td>\n",
       "      <td>0.0</td>\n",
       "    </tr>\n",
       "    <tr>\n",
       "      <th>3</th>\n",
       "      <td>265</td>\n",
       "      <td>CC(=O)O[Hg]c1ccccc1</td>\n",
       "      <td>0.0</td>\n",
       "    </tr>\n",
       "    <tr>\n",
       "      <th>4</th>\n",
       "      <td>395</td>\n",
       "      <td>NCC(O)C1=CC=CC(O)=C1</td>\n",
       "      <td>0.0</td>\n",
       "    </tr>\n",
       "  </tbody>\n",
       "</table>\n",
       "</div>"
      ],
      "text/plain": [
       "    ID                                    SMILES  Outcome\n",
       "0  646  CC(=O)NC(CCC(O)=O)C(=O)NCCC1=CC=C(O)C=C1      0.0\n",
       "1  392                         OC(C(C)N)c1ccccc1      0.0\n",
       "2  394          O=C(Nc1c(C)cccc1C(=O)OC)CN(CC)CC      0.0\n",
       "3  265                       CC(=O)O[Hg]c1ccccc1      0.0\n",
       "4  395                      NCC(O)C1=CC=CC(O)=C1      0.0"
      ]
     },
     "execution_count": 2,
     "metadata": {},
     "output_type": "execute_result"
    }
   ],
   "source": [
    "#Inport train, validation and test sets\n",
    "\n",
    "training = './data/COVID_classification2/train_fold_0.csv'\n",
    "validation = './data/COVID_classification2/valid_fold_0.csv'\n",
    "test = './data/COVID_classification2/test_fold_0.csv'\n",
    "\n",
    "train_dataset = pd.read_csv(training, delimiter=',', low_memory=False)\n",
    "valid_dataset = pd.read_csv(validation, delimiter=',', low_memory=False)\n",
    "test_dataset = pd.read_csv(test, delimiter=',', low_memory=False)\n",
    "\n",
    "train_dataset.head()"
   ]
  },
  {
   "cell_type": "code",
   "execution_count": 3,
   "id": "1f97fed3",
   "metadata": {
    "scrolled": true
   },
   "outputs": [
    {
     "name": "stdout",
     "output_type": "stream",
     "text": [
      "loaded y_train data: (889, 1)\n",
      "loaded y_test data: (98, 1)\n"
     ]
    }
   ],
   "source": [
    "task_start=2\n",
    "task_index = 3\n",
    "\n",
    "# load training dataset\n",
    "\n",
    "train_dataset = pd.concat([valid_dataset, train_dataset], axis=0).reset_index(drop=True)\n",
    "y_train = np.array(train_dataset.iloc[:,2:task_index].values)\n",
    "print(f\"loaded y_train data: {y_train.shape}\")\n",
    "\n",
    "# load test dataset\n",
    "\n",
    "y_test = np.array(test_dataset.iloc[:,2:task_index].values)\n",
    "print(f\"loaded y_test data: {y_test.shape}\")"
   ]
  },
  {
   "cell_type": "code",
   "execution_count": 4,
   "id": "dc355297",
   "metadata": {
    "scrolled": true
   },
   "outputs": [
    {
     "data": {
      "text/plain": [
       "((889, 2048), (98, 2048))"
      ]
     },
     "execution_count": 4,
     "metadata": {},
     "output_type": "execute_result"
    }
   ],
   "source": [
    "# calculate ECFP (defaut) fingerprints using RDKit\n",
    "\n",
    "from utils.fingerprints import *\n",
    "\n",
    "train_smiles=train_dataset[\"SMILES\"].values\n",
    "test_smiles=test_dataset[\"SMILES\"].values\n",
    "X_train = assing_fp(train_smiles,FP_SIZE,RADIUS)\n",
    "X_test = assing_fp(test_smiles,FP_SIZE,RADIUS)\n",
    "\n",
    "y_train = y_train.ravel()\n",
    "y_train = np.array(y_train).astype(int)\n",
    "y_test = y_test.ravel()\n",
    "y_test = np.array(y_test).astype(int)\n",
    "\n",
    "X_train.shape, X_test.shape"
   ]
  },
  {
   "cell_type": "code",
   "execution_count": 5,
   "id": "282c103b",
   "metadata": {
    "scrolled": true
   },
   "outputs": [
    {
     "name": "stderr",
     "output_type": "stream",
     "text": [
      "C:\\Users\\Predator\\anaconda3\\envs\\ia\\lib\\site-packages\\skopt\\optimizer\\optimizer.py:449: UserWarning: The objective has been evaluated at this point before.\n",
      "  warnings.warn(\"The objective has been evaluated \"\n"
     ]
    },
    {
     "name": "stdout",
     "output_type": "stream",
     "text": [
      "Best parameters: OrderedDict([('max_depth', 17), ('max_features', 'auto'), ('min_samples_leaf', 2), ('min_samples_split', 12), ('n_estimators', 2)])\n"
     ]
    },
    {
     "name": "stderr",
     "output_type": "stream",
     "text": [
      "C:\\Users\\Predator\\anaconda3\\envs\\ia\\lib\\site-packages\\sklearn\\ensemble\\_forest.py:427: FutureWarning: `max_features='auto'` has been deprecated in 1.1 and will be removed in 1.3. To keep the past behaviour, explicitly set `max_features='sqrt'` or remove this parameter as it is also the default value for RandomForestClassifiers and ExtraTreesClassifiers.\n",
      "  warn(\n"
     ]
    }
   ],
   "source": [
    "#Parameters for train model\n",
    "\n",
    "cv = RepeatedStratifiedKFold(n_splits=5, n_repeats=3, random_state=1)\n",
    "scorer = make_scorer(mean_squared_error)\n",
    "\n",
    "#log-uniform: understand as search over p = exp(x) by varying x\n",
    "\n",
    "model = BayesSearchCV(RandomForestClassifier(),\n",
    "    {\n",
    "    'max_features': ['auto', 'sqrt'],\n",
    "    'n_estimators': [2, 200],\n",
    "    \"max_depth\": [2, 30],\n",
    "    'min_samples_leaf': [1, 20], \n",
    "    'min_samples_split': [2, 20]\n",
    "    },\n",
    "    n_iter=50, # Number of parameter settings that are sampled\n",
    "    cv=cv,\n",
    "    scoring = scorer,\n",
    "    refit = True, # Refit the best estimator with the entire dataset.\n",
    "    random_state=42,\n",
    "    n_jobs = -1\n",
    ")\n",
    "\n",
    "model.fit(X_train, y_train)\n",
    "\n",
    "print(\"Best parameters: %s\" % model.best_params_)"
   ]
  },
  {
   "cell_type": "code",
   "execution_count": 6,
   "id": "59b20a0e",
   "metadata": {
    "scrolled": true
   },
   "outputs": [
    {
     "name": "stderr",
     "output_type": "stream",
     "text": [
      "C:\\Users\\Predator\\anaconda3\\envs\\ia\\lib\\site-packages\\sklearn\\ensemble\\_forest.py:427: FutureWarning: `max_features='auto'` has been deprecated in 1.1 and will be removed in 1.3. To keep the past behaviour, explicitly set `max_features='sqrt'` or remove this parameter as it is also the default value for RandomForestClassifiers and ExtraTreesClassifiers.\n",
      "  warn(\n"
     ]
    },
    {
     "data": {
      "text/html": [
       "<style>#sk-container-id-1 {color: black;background-color: white;}#sk-container-id-1 pre{padding: 0;}#sk-container-id-1 div.sk-toggleable {background-color: white;}#sk-container-id-1 label.sk-toggleable__label {cursor: pointer;display: block;width: 100%;margin-bottom: 0;padding: 0.3em;box-sizing: border-box;text-align: center;}#sk-container-id-1 label.sk-toggleable__label-arrow:before {content: \"▸\";float: left;margin-right: 0.25em;color: #696969;}#sk-container-id-1 label.sk-toggleable__label-arrow:hover:before {color: black;}#sk-container-id-1 div.sk-estimator:hover label.sk-toggleable__label-arrow:before {color: black;}#sk-container-id-1 div.sk-toggleable__content {max-height: 0;max-width: 0;overflow: hidden;text-align: left;background-color: #f0f8ff;}#sk-container-id-1 div.sk-toggleable__content pre {margin: 0.2em;color: black;border-radius: 0.25em;background-color: #f0f8ff;}#sk-container-id-1 input.sk-toggleable__control:checked~div.sk-toggleable__content {max-height: 200px;max-width: 100%;overflow: auto;}#sk-container-id-1 input.sk-toggleable__control:checked~label.sk-toggleable__label-arrow:before {content: \"▾\";}#sk-container-id-1 div.sk-estimator input.sk-toggleable__control:checked~label.sk-toggleable__label {background-color: #d4ebff;}#sk-container-id-1 div.sk-label input.sk-toggleable__control:checked~label.sk-toggleable__label {background-color: #d4ebff;}#sk-container-id-1 input.sk-hidden--visually {border: 0;clip: rect(1px 1px 1px 1px);clip: rect(1px, 1px, 1px, 1px);height: 1px;margin: -1px;overflow: hidden;padding: 0;position: absolute;width: 1px;}#sk-container-id-1 div.sk-estimator {font-family: monospace;background-color: #f0f8ff;border: 1px dotted black;border-radius: 0.25em;box-sizing: border-box;margin-bottom: 0.5em;}#sk-container-id-1 div.sk-estimator:hover {background-color: #d4ebff;}#sk-container-id-1 div.sk-parallel-item::after {content: \"\";width: 100%;border-bottom: 1px solid gray;flex-grow: 1;}#sk-container-id-1 div.sk-label:hover label.sk-toggleable__label {background-color: #d4ebff;}#sk-container-id-1 div.sk-serial::before {content: \"\";position: absolute;border-left: 1px solid gray;box-sizing: border-box;top: 0;bottom: 0;left: 50%;z-index: 0;}#sk-container-id-1 div.sk-serial {display: flex;flex-direction: column;align-items: center;background-color: white;padding-right: 0.2em;padding-left: 0.2em;position: relative;}#sk-container-id-1 div.sk-item {position: relative;z-index: 1;}#sk-container-id-1 div.sk-parallel {display: flex;align-items: stretch;justify-content: center;background-color: white;position: relative;}#sk-container-id-1 div.sk-item::before, #sk-container-id-1 div.sk-parallel-item::before {content: \"\";position: absolute;border-left: 1px solid gray;box-sizing: border-box;top: 0;bottom: 0;left: 50%;z-index: -1;}#sk-container-id-1 div.sk-parallel-item {display: flex;flex-direction: column;z-index: 1;position: relative;background-color: white;}#sk-container-id-1 div.sk-parallel-item:first-child::after {align-self: flex-end;width: 50%;}#sk-container-id-1 div.sk-parallel-item:last-child::after {align-self: flex-start;width: 50%;}#sk-container-id-1 div.sk-parallel-item:only-child::after {width: 0;}#sk-container-id-1 div.sk-dashed-wrapped {border: 1px dashed gray;margin: 0 0.4em 0.5em 0.4em;box-sizing: border-box;padding-bottom: 0.4em;background-color: white;}#sk-container-id-1 div.sk-label label {font-family: monospace;font-weight: bold;display: inline-block;line-height: 1.2em;}#sk-container-id-1 div.sk-label-container {text-align: center;}#sk-container-id-1 div.sk-container {/* jupyter's `normalize.less` sets `[hidden] { display: none; }` but bootstrap.min.css set `[hidden] { display: none !important; }` so we also need the `!important` here to be able to override the default hidden behavior on the sphinx rendered scikit-learn.org. See: https://github.com/scikit-learn/scikit-learn/issues/21755 */display: inline-block !important;position: relative;}#sk-container-id-1 div.sk-text-repr-fallback {display: none;}</style><div id=\"sk-container-id-1\" class=\"sk-top-container\"><div class=\"sk-text-repr-fallback\"><pre>RandomForestClassifier(max_depth=17, max_features=&#x27;auto&#x27;, min_samples_leaf=2,\n",
       "                       min_samples_split=12, n_estimators=2)</pre><b>In a Jupyter environment, please rerun this cell to show the HTML representation or trust the notebook. <br />On GitHub, the HTML representation is unable to render, please try loading this page with nbviewer.org.</b></div><div class=\"sk-container\" hidden><div class=\"sk-item\"><div class=\"sk-estimator sk-toggleable\"><input class=\"sk-toggleable__control sk-hidden--visually\" id=\"sk-estimator-id-1\" type=\"checkbox\" checked><label for=\"sk-estimator-id-1\" class=\"sk-toggleable__label sk-toggleable__label-arrow\">RandomForestClassifier</label><div class=\"sk-toggleable__content\"><pre>RandomForestClassifier(max_depth=17, max_features=&#x27;auto&#x27;, min_samples_leaf=2,\n",
       "                       min_samples_split=12, n_estimators=2)</pre></div></div></div></div></div>"
      ],
      "text/plain": [
       "RandomForestClassifier(max_depth=17, max_features='auto', min_samples_leaf=2,\n",
       "                       min_samples_split=12, n_estimators=2)"
      ]
     },
     "execution_count": 6,
     "metadata": {},
     "output_type": "execute_result"
    }
   ],
   "source": [
    "#Fit model using best hyperparameters\n",
    "\n",
    "model = RandomForestClassifier(**model.best_params_)\n",
    "model.fit(X_train, y_train)"
   ]
  },
  {
   "cell_type": "code",
   "execution_count": 7,
   "id": "218f45c5",
   "metadata": {
    "scrolled": true
   },
   "outputs": [
    {
     "name": "stdout",
     "output_type": "stream",
     "text": [
      "Train set results\n",
      "ACC\t0.81\n",
      "MCC\t0.40\n",
      "kappa\t0.34\n",
      "SE\t0.78\n",
      "SP\t0.81\n",
      "PPV\t0.30\n",
      "NPV\t0.97\n",
      "TPR\t0.78\n",
      "FPR\t0.19\n",
      "F1\t0.43\n",
      "Test set results\n",
      "ACC\t0.81\n",
      "MCC\t0.10\n",
      "kappa\t0.07\n",
      "SE\t0.78\n",
      "SP\t0.81\n",
      "PPV\t0.30\n",
      "NPV\t0.97\n",
      "TPR\t0.78\n",
      "FPR\t0.19\n",
      "F1\t0.20\n"
     ]
    }
   ],
   "source": [
    "#Statistical characteristics of model\n",
    "\n",
    "y_pred_train = (model.predict_proba(X_train)[:,1] >= 0.15).astype(bool)\n",
    "y_pred_test = (model.predict_proba(X_test)[:,1] >= 0.15).astype(bool)\n",
    "\n",
    "confusion = confusion_matrix(y_train, y_pred_train)\n",
    "    #[row, column]\n",
    "TP = confusion[1, 1]\n",
    "TN = confusion[0, 0]\n",
    "FP = confusion[0, 1]\n",
    "FN = confusion[1, 0]\n",
    "\n",
    "print((\"Train set results\"))\n",
    "print(\"ACC\\t%.2f\" % ((TN+TP)/(TN+TP+FN+FP)))\n",
    "print(\"MCC\\t%.2f\" % matthews_corrcoef(y_train, y_pred_train))\n",
    "print(\"kappa\\t%.2f\" % cohen_kappa_score(y_train, y_pred_train))\n",
    "print(\"SE\\t%.2f\" % (TP/(TP+FN)))\n",
    "print(\"SP\\t%.2f\" % (TN/(TN+FP)))\n",
    "print(\"PPV\\t%.2f\" % (TP/(TP+FP)))\n",
    "print(\"NPV\\t%.2f\" % (TN/(TN+FN)))\n",
    "print(\"TPR\\t%.2f\" %(TP/(TP+FN)))\n",
    "print(\"FPR\\t%.2f\" %(FP/(FP+TN)))\n",
    "print(\"F1\\t%.2f\" % f1_score(y_train, y_pred_train))\n",
    "\n",
    "\n",
    "confusion_test = confusion_matrix(y_test, y_pred_test)\n",
    "    #[row, column]\n",
    "TP_test = confusion[1, 1]\n",
    "TN_test = confusion[0, 0]\n",
    "FP_test = confusion[0, 1]\n",
    "FN_test = confusion[1, 0]\n",
    "\n",
    "print((\"Test set results\"))\n",
    "print(\"ACC\\t%.2f\" % ((TN_test+TP_test)/(TN_test+TP_test+FN_test+FP_test)))\n",
    "print(\"MCC\\t%.2f\" % matthews_corrcoef(y_test, y_pred_test))\n",
    "print(\"kappa\\t%.2f\" % cohen_kappa_score(y_test, y_pred_test))\n",
    "print(\"SE\\t%.2f\" % (TP_test/(TP_test+FN_test)))\n",
    "print(\"SP\\t%.2f\" % (TN_test/(TN_test+FP_test)))\n",
    "print(\"PPV\\t%.2f\" % (TP_test/(TP_test+FP_test)))\n",
    "print(\"NPV\\t%.2f\" % (TN_test/(TN_test+FN_test)))\n",
    "print(\"TPR\\t%.2f\" %(TP_test/(TP_test+FN_test)))\n",
    "print(\"FPR\\t%.2f\" %(FP_test/(FP_test+TN_test)))\n",
    "print(\"F1\\t%.2f\" % f1_score(y_test, y_pred_test))"
   ]
  }
 ],
 "metadata": {
  "kernelspec": {
   "display_name": "Python 3 (ipykernel)",
   "language": "python",
   "name": "python3"
  },
  "language_info": {
   "codemirror_mode": {
    "name": "ipython",
    "version": 3
   },
   "file_extension": ".py",
   "mimetype": "text/x-python",
   "name": "python",
   "nbconvert_exporter": "python",
   "pygments_lexer": "ipython3",
   "version": "3.9.12"
  }
 },
 "nbformat": 4,
 "nbformat_minor": 5
}
